{
 "cells": [
  {
   "cell_type": "markdown",
   "id": "97791c84",
   "metadata": {},
   "source": [
    "# Pytorch 101"
   ]
  },
  {
   "cell_type": "code",
   "execution_count": null,
   "id": "ac4bf70c",
   "metadata": {},
   "outputs": [],
   "source": [
    "import torch\n",
    "import numpy as np"
   ]
  },
  {
   "cell_type": "code",
   "execution_count": null,
   "id": "7b8e7ca0",
   "metadata": {},
   "outputs": [],
   "source": [
    "tensor_2d = torch.randn(3,4)\n",
    "tensor_2d"
   ]
  },
  {
   "cell_type": "code",
   "execution_count": null,
   "id": "e17606d9",
   "metadata": {},
   "outputs": [],
   "source": [
    "tensor_3d = torch.zeros(2,3,4)\n",
    "tensor_3d"
   ]
  },
  {
   "cell_type": "code",
   "execution_count": null,
   "id": "cba4b93a",
   "metadata": {},
   "outputs": [],
   "source": [
    "np1 = np.random.rand(4,5)\n",
    "my_tensor = torch.tensor(np1)\n",
    "my_tensor\n",
    "# tensors are by default float32, but can "
   ]
  },
  {
   "cell_type": "markdown",
   "id": "53b1688f",
   "metadata": {},
   "source": [
    "## Tensor Ops"
   ]
  },
  {
   "cell_type": "code",
   "execution_count": null,
   "id": "85a11f38",
   "metadata": {},
   "outputs": [],
   "source": [
    "import torch"
   ]
  },
  {
   "cell_type": "code",
   "execution_count": null,
   "id": "d91e9e99",
   "metadata": {},
   "outputs": [],
   "source": [
    "my_torch = torch.arange(10)\n",
    "my_torch"
   ]
  },
  {
   "cell_type": "code",
   "execution_count": null,
   "id": "89a591ac",
   "metadata": {},
   "outputs": [],
   "source": [
    "# Reshape and View\n",
    "my_torch = my_torch.reshape(2,5)\n",
    "my_torch\n",
    "# Reshape if we dont know the number of items and udo that use -1\n",
    "my_torch = my_torch.reshape(-1, 5)\n",
    "my_torch"
   ]
  },
  {
   "cell_type": "code",
   "execution_count": null,
   "id": "548b2b74",
   "metadata": {},
   "outputs": [],
   "source": [
    "my_torch2 = torch.arange(10)\n",
    "my_torch3 = my_torch2.reshape(2,5)"
   ]
  },
  {
   "cell_type": "code",
   "execution_count": null,
   "id": "0e10da14",
   "metadata": {},
   "outputs": [],
   "source": [
    "my_torch3"
   ]
  },
  {
   "cell_type": "code",
   "execution_count": null,
   "id": "653d8e61",
   "metadata": {},
   "outputs": [],
   "source": [
    "my_torch2[1] = 4141\n",
    "my_torch2"
   ]
  },
  {
   "cell_type": "code",
   "execution_count": null,
   "id": "fc99f1d1",
   "metadata": {},
   "outputs": [],
   "source": [
    "my_torch3"
   ]
  },
  {
   "cell_type": "code",
   "execution_count": null,
   "id": "d9cfbb88",
   "metadata": {},
   "outputs": [],
   "source": [
    "my_torch4 = torch.arange(10)\n",
    "my_torch4"
   ]
  },
  {
   "cell_type": "code",
   "execution_count": null,
   "id": "72e0f265",
   "metadata": {},
   "outputs": [],
   "source": [
    "my_torch4[4]"
   ]
  },
  {
   "cell_type": "code",
   "execution_count": null,
   "id": "cd09ef8e",
   "metadata": {},
   "outputs": [],
   "source": [
    "# Grab slice\n",
    "my_torch5 = torch.arange(10)\n",
    "my_torch6 = my_torch5.reshape(5,2)\n",
    "my_torch6[:,1]"
   ]
  },
  {
   "cell_type": "code",
   "execution_count": null,
   "id": "1cd33ac7",
   "metadata": {},
   "outputs": [],
   "source": [
    "my_torch6[:,1:]"
   ]
  },
  {
   "cell_type": "markdown",
   "id": "10421c8c",
   "metadata": {},
   "source": [
    "## Tensor Math Operations"
   ]
  },
  {
   "cell_type": "code",
   "execution_count": null,
   "id": "3d83d510",
   "metadata": {},
   "outputs": [],
   "source": [
    "import torch\n",
    "import numpy as np"
   ]
  },
  {
   "cell_type": "code",
   "execution_count": null,
   "id": "96982ea2",
   "metadata": {},
   "outputs": [],
   "source": [
    "tensor_a = torch.tensor([1,2,3,4])\n",
    "tensor_b = torch.tensor([5,6,7,8])"
   ]
  },
  {
   "cell_type": "code",
   "execution_count": null,
   "id": "74288970",
   "metadata": {},
   "outputs": [],
   "source": [
    "tensor_a + tensor_b"
   ]
  },
  {
   "cell_type": "code",
   "execution_count": null,
   "id": "702c8917",
   "metadata": {},
   "outputs": [],
   "source": [
    "torch.add(tensor_a, tensor_b)"
   ]
  },
  {
   "cell_type": "code",
   "execution_count": null,
   "id": "9722667f",
   "metadata": {},
   "outputs": [],
   "source": [
    "tensor_b - tensor_a"
   ]
  },
  {
   "cell_type": "code",
   "execution_count": null,
   "id": "49fc76d5",
   "metadata": {},
   "outputs": [],
   "source": [
    "torch.sub(tensor_b, tensor_a)"
   ]
  },
  {
   "cell_type": "code",
   "execution_count": null,
   "id": "13226a2e",
   "metadata": {},
   "outputs": [],
   "source": [
    "tensor_a * tensor_b"
   ]
  },
  {
   "cell_type": "code",
   "execution_count": null,
   "id": "fbd75975",
   "metadata": {},
   "outputs": [],
   "source": [
    "torch.mul(tensor_a, tensor_b)"
   ]
  },
  {
   "cell_type": "code",
   "execution_count": null,
   "id": "5eb1e061",
   "metadata": {},
   "outputs": [],
   "source": [
    "tensor_b/tensor_a"
   ]
  },
  {
   "cell_type": "code",
   "execution_count": null,
   "id": "2b6b092e",
   "metadata": {},
   "outputs": [],
   "source": [
    "torch.div(tensor_b, tensor_a)"
   ]
  },
  {
   "cell_type": "code",
   "execution_count": null,
   "id": "ffcd35d4",
   "metadata": {},
   "outputs": [],
   "source": [
    "tensor_b % tensor_a"
   ]
  },
  {
   "cell_type": "code",
   "execution_count": null,
   "id": "b7f50aea",
   "metadata": {},
   "outputs": [],
   "source": [
    "torch.remainder(tensor_b, tensor_a)"
   ]
  },
  {
   "cell_type": "code",
   "execution_count": null,
   "id": "81423b0c",
   "metadata": {},
   "outputs": [],
   "source": [
    "# Exponenstial power\n",
    "print([1**5, 2**6, 3**7, 4**8])\n",
    "torch.pow(tensor_a, tensor_b)"
   ]
  },
  {
   "cell_type": "code",
   "execution_count": null,
   "id": "f2b5db3c",
   "metadata": {},
   "outputs": [],
   "source": [
    "tensor_a.add(tensor_b)"
   ]
  },
  {
   "cell_type": "code",
   "execution_count": null,
   "id": "c465a740",
   "metadata": {},
   "outputs": [],
   "source": [
    "tensor_a.add_(tensor_b)\n",
    "tensor_a"
   ]
  },
  {
   "cell_type": "markdown",
   "id": "552c4d8b",
   "metadata": {},
   "source": [
    "# Build Simple Neural Network with PyTorch"
   ]
  },
  {
   "cell_type": "code",
   "execution_count": null,
   "id": "3f9eb98f",
   "metadata": {},
   "outputs": [],
   "source": [
    "from sklearn.model_selection import train_test_split\n",
    "import numpy as np\n",
    "import torch\n",
    "import torch.nn as nn\n",
    "import torch.nn.functional as F\n",
    "import pandas as pd\n",
    "import matplotlib.pyplot as plt\n",
    "%matplotlib inline"
   ]
  },
  {
   "cell_type": "code",
   "execution_count": null,
   "id": "bd3d5b76",
   "metadata": {},
   "outputs": [],
   "source": [
    "# Create a Model Class that inherits from nn.Module\n",
    "class Model(nn.Module):\n",
    "    # Input Layer (4 features of the flower) --> \n",
    "    # Hiddenlayer 1 H1 (number of neurons) --> \n",
    "    # H2 (n number of neurons) --> \n",
    "    # Output Layer (3 classes of the flower)\n",
    "\n",
    "    def __init__(self, in_features=4, h1=8, h2=9, out_features=3):\n",
    "        super().__init__()\n",
    "        self.fc1 = nn.Linear(in_features, h1) # Input to H1\n",
    "        self.fc2 = nn.Linear(h1, h2)          # H1 to H2\n",
    "        self.out = nn.Linear(h2, out_features) # H2 to Output Layer\n",
    "    \n",
    "    def forward(self, x):\n",
    "        x = F.relu(self.fc1(x)) # Do something, if the output of something is <-, use 0, else use the output\n",
    "        x = F.relu(self.fc2(x))\n",
    "        x = self.out(x) # Final Layer, no activation function\n",
    "        return x"
   ]
  },
  {
   "cell_type": "code",
   "execution_count": null,
   "id": "80d18f71",
   "metadata": {},
   "outputs": [],
   "source": [
    "# create a manual seed for randomness\n",
    "torch.manual_seed(41)\n",
    "# Create an instance of the model\n",
    "model = Model()"
   ]
  },
  {
   "cell_type": "code",
   "execution_count": null,
   "id": "311f9d68",
   "metadata": {},
   "outputs": [],
   "source": [
    "url = 'https://gist.githubusercontent.com/curran/a08a1080b88344b0c8a7/raw/0e7a9b0a5d22642a06d3d5b9bcbad9890c8ee534/iris.csv'\n",
    "my_df = pd.read_csv(url)"
   ]
  },
  {
   "cell_type": "code",
   "execution_count": null,
   "id": "32e358e2",
   "metadata": {},
   "outputs": [],
   "source": [
    "my_df.tail()"
   ]
  },
  {
   "cell_type": "code",
   "execution_count": null,
   "id": "3902d7fb",
   "metadata": {},
   "outputs": [],
   "source": [
    "# Change last column from strings to integers\n",
    "my_df['species'] = my_df['species'].replace({'setosa':0, 'versicolor':1, 'virginica':2})\n",
    "my_df"
   ]
  },
  {
   "cell_type": "code",
   "execution_count": null,
   "id": "831f6b1c",
   "metadata": {},
   "outputs": [],
   "source": [
    "# Train and Test Split and make X and y as numpy arrays\n",
    "X = my_df.drop('species', axis=1).values\n",
    "y = my_df['species'].values\n",
    "X"
   ]
  },
  {
   "cell_type": "code",
   "execution_count": null,
   "id": "8490d2d0",
   "metadata": {},
   "outputs": [],
   "source": [
    "X_train, X_test, y_train, y_test = train_test_split(X, y, test_size=0.2, random_state=41)"
   ]
  },
  {
   "cell_type": "code",
   "execution_count": null,
   "id": "241879ce",
   "metadata": {},
   "outputs": [],
   "source": [
    "X_train = torch.FloatTensor(X_train)\n",
    "X_test = torch.FloatTensor(X_test)\n",
    "\n",
    "y_train = torch.LongTensor(y_train) #LongTensor for classification, longtensors are 64 bit integers\n",
    "y_test = torch.LongTensor(y_test)"
   ]
  },
  {
   "cell_type": "code",
   "execution_count": null,
   "id": "3bd509d0",
   "metadata": {},
   "outputs": [],
   "source": [
    "# Set the creiterion to measure the error\n",
    "criterion = nn.CrossEntropyLoss()\n",
    "# Choose an optimizer, learning rate, lr = 0.01 if error doesnt go down after epochs, lower the lr. The lower lr, the longer it takes to run\n",
    "optimizer = torch.optim.Adam((model.parameters()), lr = 0.01)"
   ]
  },
  {
   "cell_type": "code",
   "execution_count": null,
   "id": "6326648c",
   "metadata": {},
   "outputs": [],
   "source": [
    "# Define the number of epochs\n",
    "# Epoch is one run through all the the training data\n",
    "epochs = 100\n",
    "losses = [] # append losses as we go through the epochs\n",
    "for i in range(epochs):\n",
    "    # Go forward pass and get a prediction\n",
    "    y_pred = model.forward(X_train) # Get predicted results\n",
    "\n",
    "    # Measure the loss\n",
    "    loss = criterion(y_pred, y_train) # Compare predicted results to actual results\n",
    "\n",
    "    # Keep track of losses\n",
    "    losses.append(loss.detach().numpy())\n",
    "\n",
    "    # print every 10 epochs\n",
    "    if i%10==0:\n",
    "        print(f'Epoch: {i} Loss: {loss}')\n",
    "    \n",
    "    # Do some backporpagation: Take the error rate from forward propagation and feed it back through the network to fine tune the weights.\n",
    "    optimizer.zero_grad() # clears the old gradient values, ensuring gradients from the previous iterations don’t accumulate.\n",
    "\n",
    "    loss.backward() # Performs backpropagation to calculate the new gradients of the loss with respect to each parameter (weights).\n",
    "    optimizer.step() # Uses the calculated gradients to update the model's parameters, moving them toward values that minimize the loss.\n",
    "\n"
   ]
  },
  {
   "cell_type": "code",
   "execution_count": null,
   "id": "be9523e9",
   "metadata": {},
   "outputs": [],
   "source": [
    "# Graph the losses\n",
    "plt.plot(range(epochs), losses)\n",
    "plt.ylabel('Loss')\n",
    "plt.xlabel('Epochs')"
   ]
  },
  {
   "cell_type": "code",
   "execution_count": null,
   "id": "46ddeb72",
   "metadata": {},
   "outputs": [],
   "source": [
    "# Evaluate the model on test dataset\n",
    "with torch.no_grad(): # Turn off backpropagation, since learning is not required, only evaluation with test data\n",
    "    y_eval = model.forward(X_test)\n",
    "    loss = criterion(y_eval, y_test)\n",
    "loss\n"
   ]
  },
  {
   "cell_type": "code",
   "execution_count": null,
   "id": "8197d17f",
   "metadata": {},
   "outputs": [],
   "source": [
    "correct = 0\n",
    "with torch.no_grad():\n",
    "    for i, data in enumerate(X_test):\n",
    "        y_val = model.forward(data)\n",
    "        # Will tell us which of the 3 classes has the highest value\n",
    "        print(f'{i+1}.)  {str(y_val)} \\t {y_test[i]} \\t {y_val.argmax().item()}')\n",
    "\n",
    "        # Correct or not\n",
    "        if y_val.argmax().item() == y_test[i]:\n",
    "            correct += 1\n",
    "\n",
    "print(f'We got correct {correct} out of {len(y_test)}')"
   ]
  },
  {
   "cell_type": "code",
   "execution_count": null,
   "id": "5c3d0fe1",
   "metadata": {},
   "outputs": [],
   "source": [
    "new_iris = torch.tensor([[4.7, 3.2, 1.3, 0.2]])"
   ]
  },
  {
   "cell_type": "code",
   "execution_count": null,
   "id": "fdbfeae3",
   "metadata": {},
   "outputs": [],
   "source": [
    "with torch.no_grad():\n",
    "    y_new = model.forward(new_iris)\n",
    "    print(y_new, y_new.argmax().item())\n",
    "    "
   ]
  },
  {
   "cell_type": "code",
   "execution_count": null,
   "id": "c70fd637",
   "metadata": {},
   "outputs": [],
   "source": [
    "# Save our NN Model\n",
    "torch.save(model.state_dict(), 'basi_nn_iris_model.pt')"
   ]
  },
  {
   "cell_type": "code",
   "execution_count": null,
   "id": "803a80ef",
   "metadata": {},
   "outputs": [],
   "source": [
    "new_model = Model()\n",
    "new_model.load_state_dict(torch.load('basi_nn_iris_model.pt'))"
   ]
  },
  {
   "cell_type": "code",
   "execution_count": null,
   "id": "49d00f0c",
   "metadata": {},
   "outputs": [],
   "source": [
    "new_model.eval() # Put the model in evaluation mode"
   ]
  },
  {
   "cell_type": "markdown",
   "id": "54325dd6",
   "metadata": {},
   "source": [
    "# Convolutional Neural Networks with PyTorch\n",
    "\n",
    "**Loading MNIST Dataset for CNNs and classify digits**\n",
    "\n",
    "image filter nad kerner are the samething.\n",
    "apply that filter to the image to get feautres. The filter is applied on every matrix, and the number are added up to get a single number. This is called convolution operation.\n",
    "This filter is dragged over the entire image to get an output\n",
    "\n",
    "The filter is actually weights. Then it will convvolute and stride across the image.\n",
    "Sometimes we want to change stride length.\n",
    "\n",
    "In CNN the neurons are connected to only a small region of the previous layer. This is called local receptive field. --> locally connected.\n",
    "in ANN, all neurons are connected to all neurons in the previous layer. --> fully connected.\n",
    "\n",
    "After the local receptive field, which is convolution, there is pooling.\n",
    "\n",
    "When color images are in usd, the images are 3D and the filters are also 3D. So there is 3d tensors. The coloir is split into multiple layers --> 3 color channel (RGB). Each channel intenstiy determines what color overall the image is.\n",
    "Each channel is a filter layer.\n",
    "\n",
    "The very last stage of CNN, there will be a fully connected layer.\n",
    "\n",
    "Pooling layer:\n",
    "Takes all the inputs from the convolution layer and reduced them.\n",
    "This can be done with a regular NN. too, but it touwld take too long and many more parameters.\n",
    "Reducing that happens with pooling layer.\n",
    "Pooling is basically downsampling.\n",
    "Methods to downsample opr pooling: max and average pooling\n",
    "Drag a filter across, set a window, set a stride length.\n",
    "max pooling: across the widnows, takes the max values. All the other values disappear.\n",
    "\n",
    "From pooling layer, a whole new convolution layer can be created.\n",
    "And then another pooling layer can be created.\n",
    "\n",
    "Average pooling: The sums are averaged instead of taking the max.\n",
    "\n",
    "Later they get flattneed out as flatten layer, then a full connected layers to get the output."
   ]
  },
  {
   "cell_type": "code",
   "execution_count": null,
   "id": "4b621845",
   "metadata": {},
   "outputs": [],
   "source": []
  }
 ],
 "metadata": {
  "kernelspec": {
   "display_name": ".venv (3.12.0)",
   "language": "python",
   "name": "python3"
  },
  "language_info": {
   "codemirror_mode": {
    "name": "ipython",
    "version": 3
   },
   "file_extension": ".py",
   "mimetype": "text/x-python",
   "name": "python",
   "nbconvert_exporter": "python",
   "pygments_lexer": "ipython3",
   "version": "3.12.0"
  }
 },
 "nbformat": 4,
 "nbformat_minor": 5
}
